{
 "cells": [
  {
   "cell_type": "markdown",
   "metadata": {},
   "source": [
    "importing necessary libraries"
   ]
  },
  {
   "cell_type": "markdown",
   "metadata": {},
   "source": [
    "cleaning the data"
   ]
  },
  {
   "cell_type": "markdown",
   "metadata": {},
   "source": [
    "overview (df_wine1.describe())"
   ]
  },
  {
   "cell_type": "markdown",
   "metadata": {},
   "source": [
    "dilaras notebook:\n",
    "counts of country insert in our data (katja)\n",
    "frequency of the countries --> cutting out the the countries with not enough data\n",
    "\n",
    "average of most expensive and cheapest wines per country"
   ]
  },
  {
   "cell_type": "markdown",
   "metadata": {},
   "source": [
    "Samy: slope price/point for the world and for europe \n",
    "\n",
    "--> auf jedes land den durchschnittspreis schreiben\n",
    "\n",
    "lowest slope doesnt mean that the price is cheap (like in switzerland)\n",
    "\n",
    "--> \"In der schweiz bekommt man für weniger geld einen qualitativ besseren wein als in deutschland. Jedoch kostet in der Schweiz im Allgemeinen der Wein mehr\"\n",
    "another color code"
   ]
  },
  {
   "cell_type": "markdown",
   "metadata": {},
   "source": []
  }
 ],
 "metadata": {
  "language_info": {
   "name": "python"
  }
 },
 "nbformat": 4,
 "nbformat_minor": 2
}
